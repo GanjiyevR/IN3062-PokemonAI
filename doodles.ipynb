{
 "cells": [
  {
   "cell_type": "code",
   "execution_count": 5,
   "id": "cdd532f0",
   "metadata": {},
   "outputs": [
    {
     "name": "stdout",
     "output_type": "stream",
     "text": [
      "   pokedex_number        Name  Type1   Type2  hp  height_m  weight_kg  attack  \\\n",
      "0               1   bulbasaur  Grass  Poison  45       0.7        6.9      49   \n",
      "1               2     ivysaur  Grass  Poison  60       1.0       13.0      62   \n",
      "2               3    venusaur  Grass  Poison  80       2.0      100.0     100   \n",
      "3               4  charmander   Fire     NaN  39       0.6        8.5      52   \n",
      "4               5  charmeleon   Fire     NaN  58       1.1       19.0      64   \n",
      "\n",
      "   defense  speed  ...  against_ghost  against_grass  against_ground  \\\n",
      "0       49     45  ...            1.0           0.25             1.0   \n",
      "1       63     60  ...            1.0           0.25             1.0   \n",
      "2      123     80  ...            1.0           0.25             1.0   \n",
      "3       43     65  ...            1.0           0.50             2.0   \n",
      "4       58     80  ...            1.0           0.50             2.0   \n",
      "\n",
      "  against_ice  against_normal  against_poison  against_psychic  against_rock  \\\n",
      "0         2.0             1.0             1.0              2.0           1.0   \n",
      "1         2.0             1.0             1.0              2.0           1.0   \n",
      "2         2.0             1.0             1.0              2.0           1.0   \n",
      "3         0.5             1.0             1.0              1.0           2.0   \n",
      "4         0.5             1.0             1.0              1.0           2.0   \n",
      "\n",
      "   against_steel  against_water  \n",
      "0            1.0            0.5  \n",
      "1            1.0            0.5  \n",
      "2            1.0            0.5  \n",
      "3            0.5            2.0  \n",
      "4            0.5            2.0  \n",
      "\n",
      "[5 rows x 35 columns]\n"
     ]
    }
   ],
   "source": [
    "import os\n",
    "import pandas as pd\n",
    "\n",
    "path = \".\"  #absolute or relative path to the folder containing the file. \n",
    "            #\".\" for current folder\n",
    "\n",
    "#read and print values from the dataset to check if it imported correctly\n",
    "filename_read = os.path.join(path, \"pokemon.csv\")\n",
    "df = pd.read_csv(filename_read)\n",
    "print(df[0:5])"
   ]
  },
  {
   "cell_type": "code",
   "execution_count": 16,
   "id": "92308d0f",
   "metadata": {},
   "outputs": [
    {
     "ename": "NameError",
     "evalue": "name 'preprocessing' is not defined",
     "output_type": "error",
     "traceback": [
      "\u001b[1;31m---------------------------------------------------------------------------\u001b[0m",
      "\u001b[1;31mNameError\u001b[0m                                 Traceback (most recent call last)",
      "\u001b[1;32m<ipython-input-16-06420af27fe2>\u001b[0m in \u001b[0;36m<module>\u001b[1;34m\u001b[0m\n\u001b[0;32m      5\u001b[0m \u001b[1;31m#https://stackoverflow.com/questions/49037286/pandas-string-values-encoding\u001b[0m\u001b[1;33m\u001b[0m\u001b[1;33m\u001b[0m\u001b[1;33m\u001b[0m\u001b[0m\n\u001b[0;32m      6\u001b[0m \u001b[1;32mimport\u001b[0m \u001b[0msklearn\u001b[0m\u001b[1;33m.\u001b[0m\u001b[0mpreprocessing\u001b[0m\u001b[1;33m\u001b[0m\u001b[1;33m\u001b[0m\u001b[0m\n\u001b[1;32m----> 7\u001b[1;33m \u001b[0mle\u001b[0m \u001b[1;33m=\u001b[0m \u001b[0mpreprocessing\u001b[0m\u001b[1;33m.\u001b[0m\u001b[0mLabelEncoder\u001b[0m\u001b[1;33m(\u001b[0m\u001b[1;33m)\u001b[0m\u001b[1;33m\u001b[0m\u001b[1;33m\u001b[0m\u001b[0m\n\u001b[0m\u001b[0;32m      8\u001b[0m \u001b[0mle\u001b[0m\u001b[1;33m.\u001b[0m\u001b[0mfit\u001b[0m\u001b[1;33m(\u001b[0m\u001b[0mdf\u001b[0m\u001b[1;33m[\u001b[0m\u001b[1;34m'Type1'\u001b[0m\u001b[1;33m]\u001b[0m\u001b[1;33m)\u001b[0m\u001b[1;33m\u001b[0m\u001b[1;33m\u001b[0m\u001b[0m\n\u001b[0;32m      9\u001b[0m \u001b[1;33m\u001b[0m\u001b[0m\n",
      "\u001b[1;31mNameError\u001b[0m: name 'preprocessing' is not defined"
     ]
    }
   ],
   "source": [
    "#taken from tutorial 3\n",
    "#df = df.select_dtypes(include=['int', 'float'])\n",
    "\n",
    "#encode target names to integers\n",
    "#https://stackoverflow.com/questions/49037286/pandas-string-values-encoding\n",
    "import sklearn preprocessing\n",
    "le = preprocessing.LabelEncoder()\n",
    "le.fit(df['Type1'])\n",
    "\n",
    "#collect the columns names for non-target features\n",
    "result = []\n",
    "for x in df.columns:\n",
    "    if (x == 'attack') or (x == 'defense') or (x == 'speed') or (x == 'sp_defense') or (x == 'sp_attack'):\n",
    "        result.append(x)\n",
    "\n",
    "#get data (often called X) and target (often calle y) and display its shape\n",
    "X = df[result].values\n",
    "y = df['Type1'].values\n",
    "print(X.shape)\n",
    "print(y.shape)"
   ]
  },
  {
   "cell_type": "code",
   "execution_count": null,
   "id": "b24cb03c",
   "metadata": {},
   "outputs": [],
   "source": []
  }
 ],
 "metadata": {
  "kernelspec": {
   "display_name": "Python 3",
   "language": "python",
   "name": "python3"
  },
  "language_info": {
   "codemirror_mode": {
    "name": "ipython",
    "version": 3
   },
   "file_extension": ".py",
   "mimetype": "text/x-python",
   "name": "python",
   "nbconvert_exporter": "python",
   "pygments_lexer": "ipython3",
   "version": "3.8.8"
  }
 },
 "nbformat": 4,
 "nbformat_minor": 5
}
