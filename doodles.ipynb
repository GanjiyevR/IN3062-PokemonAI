{
 "cells": [
  {
   "cell_type": "code",
   "execution_count": 1,
   "id": "cdd532f0",
   "metadata": {
    "scrolled": true
   },
   "outputs": [
    {
     "name": "stdout",
     "output_type": "stream",
     "text": [
      "   pokedex_number        Name  Type1   Type2  hp  height_m  weight_kg  attack  \\\n",
      "0               1   bulbasaur  Grass  Poison  45       0.7        6.9      49   \n",
      "1               2     ivysaur  Grass  Poison  60       1.0       13.0      62   \n",
      "2               3    venusaur  Grass  Poison  80       2.0      100.0     100   \n",
      "3               4  charmander   Fire     NaN  39       0.6        8.5      52   \n",
      "4               5  charmeleon   Fire     NaN  58       1.1       19.0      64   \n",
      "\n",
      "   defense  speed  ...  against_ghost  against_grass  against_ground  \\\n",
      "0       49     45  ...            1.0           0.25             1.0   \n",
      "1       63     60  ...            1.0           0.25             1.0   \n",
      "2      123     80  ...            1.0           0.25             1.0   \n",
      "3       43     65  ...            1.0           0.50             2.0   \n",
      "4       58     80  ...            1.0           0.50             2.0   \n",
      "\n",
      "  against_ice  against_normal  against_poison  against_psychic  against_rock  \\\n",
      "0         2.0             1.0             1.0              2.0           1.0   \n",
      "1         2.0             1.0             1.0              2.0           1.0   \n",
      "2         2.0             1.0             1.0              2.0           1.0   \n",
      "3         0.5             1.0             1.0              1.0           2.0   \n",
      "4         0.5             1.0             1.0              1.0           2.0   \n",
      "\n",
      "   against_steel  against_water  \n",
      "0            1.0            0.5  \n",
      "1            1.0            0.5  \n",
      "2            1.0            0.5  \n",
      "3            0.5            2.0  \n",
      "4            0.5            2.0  \n",
      "\n",
      "[5 rows x 35 columns]\n",
      "   pokedex_number      Name   Type1 Type2  hp  height_m  weight_kg  attack  \\\n",
      "0             734   yungoos  Normal   NaN  48       0.4        6.0      70   \n",
      "1             725    litten    Fire   NaN  45       0.4        4.3      65   \n",
      "2             159  croconaw   Water   NaN  65       1.1       25.0      80   \n",
      "3             461   weavile    Dark   Ice  70       1.1       34.0     120   \n",
      "4             341  corphish   Water   NaN  43       0.6       11.5      80   \n",
      "\n",
      "   defense  speed  ...  against_ghost  against_grass  against_ground  \\\n",
      "0       30     45  ...            0.0            1.0             1.0   \n",
      "1       40     70  ...            1.0            0.5             2.0   \n",
      "2       80     58  ...            1.0            2.0             1.0   \n",
      "3       65    125  ...            0.5            1.0             1.0   \n",
      "4       65     35  ...            1.0            2.0             1.0   \n",
      "\n",
      "  against_ice  against_normal  against_poison  against_psychic  against_rock  \\\n",
      "0         1.0             1.0             1.0              1.0           1.0   \n",
      "1         0.5             1.0             1.0              1.0           2.0   \n",
      "2         0.5             1.0             1.0              1.0           1.0   \n",
      "3         0.5             1.0             1.0              0.0           2.0   \n",
      "4         0.5             1.0             1.0              1.0           1.0   \n",
      "\n",
      "   against_steel  against_water  \n",
      "0            1.0            1.0  \n",
      "1            0.5            2.0  \n",
      "2            0.5            0.5  \n",
      "3            2.0            1.0  \n",
      "4            0.5            0.5  \n",
      "\n",
      "[5 rows x 35 columns]\n"
     ]
    }
   ],
   "source": [
    "import os\n",
    "import pandas as pd\n",
    "\n",
    "path = \".\"  #absolute or relative path to the folder containing the file. \n",
    "            #\".\" for current folder\n",
    "\n",
    "#read and print values from the dataset to check if it imported correctly\n",
    "filename_read = os.path.join(path, \"pokemon.csv\")\n",
    "df = pd.read_csv(filename_read)\n",
    "print(df[0:5])\n",
    "df = df.sample(frac=1).reset_index(drop=True)\n",
    "print(df[0:5])"
   ]
  },
  {
   "cell_type": "code",
   "execution_count": 2,
   "id": "92308d0f",
   "metadata": {},
   "outputs": [
    {
     "name": "stdout",
     "output_type": "stream",
     "text": [
      "0       Normal\n",
      "1         Fire\n",
      "2        Water\n",
      "3         Dark\n",
      "4        Water\n",
      "5      Psychic\n",
      "6       Normal\n",
      "7         Rock\n",
      "8        Steel\n",
      "9        Fairy\n",
      "10    Fighting\n",
      "11         Bug\n",
      "12      Poison\n",
      "13        Dark\n",
      "14     Psychic\n",
      "15      Dragon\n",
      "16      Normal\n",
      "17         Bug\n",
      "18    Fighting\n",
      "19       Water\n",
      "Name: Type1, dtype: object\n",
      "0     12\n",
      "1      6\n",
      "2     17\n",
      "3      1\n",
      "4     17\n",
      "5     14\n",
      "6     12\n",
      "7     15\n",
      "8     16\n",
      "9      4\n",
      "10     5\n",
      "11     0\n",
      "12    13\n",
      "13     1\n",
      "14    14\n",
      "15     2\n",
      "16    12\n",
      "17     0\n",
      "18     5\n",
      "19    17\n",
      "Name: Type1, dtype: int32\n",
      "(801, 5)\n",
      "(801,)\n",
      "(801, 18)\n"
     ]
    }
   ],
   "source": [
    "#taken from tutorial 3\n",
    "#df = df.select_dtypes(include=['int', 'float'])\n",
    "\n",
    "#encode target names to integers\n",
    "#https://stackoverflow.com/questions/49037286/pandas-string-values-encoding\n",
    "from sklearn.preprocessing import LabelEncoder\n",
    "import numpy as np\n",
    "\n",
    "print(df['Type1'][0:20])\n",
    "\n",
    "le = LabelEncoder()\n",
    "df['Type1'] = le.fit_transform(df['Type1'])\n",
    "\n",
    "print(df['Type1'][0:20])\n",
    "\n",
    "#collect the columns names for non-target features\n",
    "result = []\n",
    "for x in df.columns:\n",
    "    if (x == 'attack') or (x == 'defense') or (x == 'speed') or (x == 'sp_defense') or (x == 'sp_attack') or (x == 'weight'):\n",
    "        result.append(x)\n",
    "\n",
    "#get data (often called X) and target (often calle y) and display its shape\n",
    "X = df[result].values\n",
    "yalt = df['Type1'].values\n",
    "print(X.shape)\n",
    "print(yalt.shape)\n",
    "\n",
    "from tensorflow import keras\n",
    "\n",
    "y = keras.utils.to_categorical(df['Type1'].to_numpy())\n",
    "\n",
    "print(y.shape)"
   ]
  },
  {
   "cell_type": "code",
   "execution_count": 3,
   "id": "b24cb03c",
   "metadata": {},
   "outputs": [
    {
     "name": "stdout",
     "output_type": "stream",
     "text": [
      "Accuracy: 0.16\n"
     ]
    }
   ],
   "source": [
    "from sklearn.linear_model import Perceptron\n",
    "from sklearn.model_selection import train_test_split\n",
    "from sklearn.model_selection import KFold\n",
    "from sklearn.metrics import accuracy_score\n",
    "\n",
    "X_train, X_test, y_train, y_test = train_test_split(X, yalt, test_size=0.15, random_state=4)\n",
    "\n",
    "# Create a Perceptron, with its training parameters\n",
    "ppn = Perceptron(max_iter=40,tol=0.001,eta0=1)\n",
    "\n",
    "# Train the model\n",
    "ppn.fit(X_train,y_train)\n",
    "\n",
    "# Make predication\n",
    "y_pred = ppn.predict(X_test)\n",
    "\n",
    "# Evaluate accuracy\n",
    "print('Accuracy: %.2f' % accuracy_score(y_test, y_pred))"
   ]
  },
  {
   "cell_type": "code",
   "execution_count": 5,
   "id": "fe62c17c",
   "metadata": {},
   "outputs": [
    {
     "name": "stdout",
     "output_type": "stream",
     "text": [
      "Accuracy score: 0.17164179104477612\n",
      "Accuracy score: 0.2835820895522388\n",
      "Accuracy score: 0.26119402985074625\n",
      "Accuracy score: 0.2857142857142857\n",
      "Accuracy score: 0.23308270676691728\n",
      "Accuracy score: 0.3082706766917293\n"
     ]
    }
   ],
   "source": [
    "from tensorflow.keras.models import Sequential\n",
    "from tensorflow.keras.layers import Dense\n",
    "from sklearn import metrics\n",
    "\n",
    "model = Sequential()\n",
    "model.add(Dense(64, input_dim=X.shape[1], activation='relu'))\n",
    "model.add(Dense(y.shape[1],activation='softmax'))\n",
    "model.compile(loss='categorical_crossentropy', optimizer='adam')\n",
    "\n",
    "kf = KFold(6)\n",
    "\n",
    "for train, test in kf.split(X):\n",
    "    X_train = X[train]\n",
    "    y_train = y[train]\n",
    "    X_test = X[test]\n",
    "    y_test = y[test]\n",
    "\n",
    "    model.fit(X_train,y_train,verbose=0,epochs=128)\n",
    "    pred = model.predict(X_test)\n",
    "    pred = np.argmax(pred,axis=1)\n",
    "    y_compare = np.argmax(y_test,axis=1) \n",
    "    score = metrics.accuracy_score(y_compare, pred)\n",
    "    print(\"Accuracy score: {}\".format(score))"
   ]
  },
  {
   "cell_type": "code",
   "execution_count": 7,
   "id": "0bd97e00",
   "metadata": {},
   "outputs": [
    {
     "name": "stdout",
     "output_type": "stream",
     "text": [
      "[10  6 17  1  9 16  9 15 16  4  5 14 13 17 14  2  7 14  5  9]\n",
      "[12  6 17  1 17 14 12 15 16  4  5  0 13  1 14  2 12  0  5 17]\n"
     ]
    }
   ],
   "source": [
    "\n",
    "pred = model.predict(X[0:20]) # using all the data\n",
    "#print(pred[0:10]) # print first ten predictions\n",
    "\n",
    "print(np.argmax(pred[0:20],axis=1))\n",
    "print(np.argmax(y[0:20],axis=1))"
   ]
  },
  {
   "cell_type": "code",
   "execution_count": null,
   "id": "3fb8a368",
   "metadata": {},
   "outputs": [],
   "source": []
  }
 ],
 "metadata": {
  "kernelspec": {
   "display_name": "Python 3",
   "language": "python",
   "name": "python3"
  },
  "language_info": {
   "codemirror_mode": {
    "name": "ipython",
    "version": 3
   },
   "file_extension": ".py",
   "mimetype": "text/x-python",
   "name": "python",
   "nbconvert_exporter": "python",
   "pygments_lexer": "ipython3",
   "version": "3.8.8"
  }
 },
 "nbformat": 4,
 "nbformat_minor": 5
}
