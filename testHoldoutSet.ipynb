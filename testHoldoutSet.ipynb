{
 "cells": [
  {
   "cell_type": "code",
   "execution_count": 1,
   "id": "95aa0ea9",
   "metadata": {},
   "outputs": [
    {
     "name": "stdout",
     "output_type": "stream",
     "text": [
      "   pokedex_number        Name  Type1   Type2  hp  height_m  weight_kg  attack  \\\n",
      "0               1   bulbasaur  Grass  Poison  45       0.7        6.9      49   \n",
      "1               2     ivysaur  Grass  Poison  60       1.0       13.0      62   \n",
      "2               3    venusaur  Grass  Poison  80       2.0      100.0     100   \n",
      "3               4  charmander   Fire     NaN  39       0.6        8.5      52   \n",
      "4               5  charmeleon   Fire     NaN  58       1.1       19.0      64   \n",
      "\n",
      "   defense  speed  sp_attack  sp_defense   classfication  generation  \\\n",
      "0       49     45         65          65    Seed Pok�mon           1   \n",
      "1       63     60         80          80    Seed Pok�mon           1   \n",
      "2      123     80        122         120    Seed Pok�mon           1   \n",
      "3       43     65         60          50  Lizard Pok�mon           1   \n",
      "4       58     80         80          65   Flame Pok�mon           1   \n",
      "\n",
      "   is_legendary  \n",
      "0             0  \n",
      "1             0  \n",
      "2             0  \n",
      "3             0  \n",
      "4             0  \n",
      "(890, 15)\n",
      "   pokedex_number           Name     Type1 Type2  hp  height_m  weight_kg  \\\n",
      "0              87        dewgong     Water   Ice  90       1.7      120.0   \n",
      "1              26         raichu  Electric   NaN  60       0.8       30.0   \n",
      "2             495          snivy     Grass   NaN  45       0.6        8.1   \n",
      "3             678  meowstic-male   Psychic   NaN  74       0.6        8.5   \n",
      "4             758       salazzle    Poison  Fire  68       1.2       22.2   \n",
      "\n",
      "   attack  defense  speed  sp_attack  sp_defense         classfication  \\\n",
      "0      70       80     70         70          95      Sea Lion Pok�mon   \n",
      "1      85       50    110         95          85         Mouse Pok�mon   \n",
      "2      45       55     63         45          55   Grass Snake Pok�mon   \n",
      "3      48       76    104         83          81    Constraint Pok�mon   \n",
      "4      64       60    117        111          60  Toxic Lizard Pok�mon   \n",
      "\n",
      "   generation  is_legendary  \n",
      "0           1             0  \n",
      "1           1             0  \n",
      "2           5             0  \n",
      "3           6             0  \n",
      "4           7             0  \n"
     ]
    }
   ],
   "source": [
    "import os\n",
    "import pandas as pd\n",
    "import save_and_load\n",
    "\n",
    "path = \".\"  #absolute or relative path to the folder containing the file. \n",
    "            #\".\" for current folder\n",
    "\n",
    "#read and print values from the dataset to check if it imported correctly\n",
    "filename_read = os.path.join(path, \"pokemon.csv\")\n",
    "df = pd.read_csv(filename_read)\n",
    "print(df[0:5])\n",
    "df = df.sample(frac=1).reset_index(drop=True)\n",
    "print(df[0:5])"
   ]
  },
  {
   "cell_type": "code",
   "execution_count": null,
   "id": "a9350958",
   "metadata": {},
   "outputs": [],
   "source": [
    "#taken from tutorial 3\n",
    "#df = df.select_dtypes(include=['int', 'float'])\n",
    "\n",
    "#encode target names to integers\n",
    "#https://stackoverflow.com/questions/49037286/pandas-string-values-encoding\n",
    "from sklearn.preprocessing import LabelEncoder\n",
    "import numpy as np\n",
    "\n",
    "print(df['Type1'][0:20])\n",
    "\n",
    "le = LabelEncoder()\n",
    "df['Type1'] = le.fit_transform(df['Type1'])\n",
    "\n",
    "print(df['Type1'][0:20])"
   ]
  },
  {
   "cell_type": "code",
   "execution_count": null,
   "id": "238a8873",
   "metadata": {},
   "outputs": [],
   "source": [
    "#collect the columns names for non-target features\n",
    "result = []\n",
    "for x in df.columns:\n",
    "    if (x == 'attack') or (x == 'defense') or (x == 'speed') or (x == 'sp_defense') or (x == 'sp_attack') or (x == 'weight_kg') or (x == 'height_m') or (x == 'hp'):\n",
    "        result.append(x)\n",
    "\n",
    "#get data (often called X) and target (often calle y) and display its shape\n",
    "X = df[result].values\n",
    "y = df['Type1'].values\n",
    "print(X.shape)\n",
    "print(y.shape)\n",
    "\n",
    "from tensorflow import keras\n",
    "\n",
    "y = keras.utils.to_categorical(df['Type1'].to_numpy())\n",
    "\n",
    "print(y.shape)"
   ]
  },
  {
   "cell_type": "code",
   "execution_count": null,
   "id": "da8c8be2",
   "metadata": {},
   "outputs": [],
   "source": [
    "from sklearn import metrics\n",
    "\n",
    "model = save_and_load.model_loader(path, \"seqKFold\")\n",
    "\n",
    "pred = model.predict(X)\n",
    "\n",
    "pred = np.argmax(pred,axis=1)\n",
    "\n",
    "y_compare = np.argmax(y,axis=1) \n",
    "score = metrics.accuracy_score(y_compare, pred)\n",
    "\n",
    "# print the accuracy of the model\n",
    "print(\"Accuracy score: {}\".format(score))"
   ]
  },
  {
   "cell_type": "code",
   "execution_count": null,
   "id": "395c8221",
   "metadata": {},
   "outputs": [],
   "source": [
    "#plot a confusion matrix for the predicitons\n",
    "from sklearn.metrics import ConfusionMatrixDisplay\n",
    "from sklearn.metrics import confusion_matrix\n",
    "import matplotlib.pyplot as plt\n",
    "\n",
    "cm = confusion_matrix(y_compare, pred)\n",
    "\n",
    "disp = ConfusionMatrixDisplay(confusion_matrix=cm)\n",
    "disp.plot()\n",
    "plt.ylabel('True label')\n",
    "plt.xlabel('Predicted label')\n",
    "plt.show()"
   ]
  },
  {
   "cell_type": "code",
   "execution_count": null,
   "id": "97020a6c",
   "metadata": {},
   "outputs": [],
   "source": [
    "#list the encoded labels and string labels (temporary solution until we find out how to decode labels)\n",
    "print(df['Type1'].value_counts())\n",
    "df2 = pd.read_csv(filename_read)\n",
    "df2 = df2.sample(frac=1).reset_index(drop=True)\n",
    "print(df2['Type1'].value_counts())"
   ]
  },
  {
   "cell_type": "code",
   "execution_count": null,
   "id": "40002631",
   "metadata": {},
   "outputs": [],
   "source": []
  }
 ],
 "metadata": {
  "kernelspec": {
   "display_name": "Python 3",
   "language": "python",
   "name": "python3"
  },
  "language_info": {
   "codemirror_mode": {
    "name": "ipython",
    "version": 3
   },
   "file_extension": ".py",
   "mimetype": "text/x-python",
   "name": "python",
   "nbconvert_exporter": "python",
   "pygments_lexer": "ipython3",
   "version": "3.8.8"
  }
 },
 "nbformat": 4,
 "nbformat_minor": 5
}
