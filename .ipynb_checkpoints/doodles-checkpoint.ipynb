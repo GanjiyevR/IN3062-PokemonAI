{
 "cells": [
  {
   "cell_type": "code",
   "execution_count": 2,
   "id": "cdd532f0",
   "metadata": {
    "scrolled": true
   },
   "outputs": [
    {
     "name": "stdout",
     "output_type": "stream",
     "text": [
      "   pokedex_number        Name  Type1   Type2  hp  height_m  weight_kg  attack  \\\n",
      "0               1   bulbasaur  Grass  Poison  45       0.7        6.9      49   \n",
      "1               2     ivysaur  Grass  Poison  60       1.0       13.0      62   \n",
      "2               3    venusaur  Grass  Poison  80       2.0      100.0     100   \n",
      "3               4  charmander   Fire     NaN  39       0.6        8.5      52   \n",
      "4               5  charmeleon   Fire     NaN  58       1.1       19.0      64   \n",
      "\n",
      "   defense  speed  ...  against_ghost  against_grass  against_ground  \\\n",
      "0       49     45  ...            1.0           0.25             1.0   \n",
      "1       63     60  ...            1.0           0.25             1.0   \n",
      "2      123     80  ...            1.0           0.25             1.0   \n",
      "3       43     65  ...            1.0           0.50             2.0   \n",
      "4       58     80  ...            1.0           0.50             2.0   \n",
      "\n",
      "  against_ice  against_normal  against_poison  against_psychic  against_rock  \\\n",
      "0         2.0             1.0             1.0              2.0           1.0   \n",
      "1         2.0             1.0             1.0              2.0           1.0   \n",
      "2         2.0             1.0             1.0              2.0           1.0   \n",
      "3         0.5             1.0             1.0              1.0           2.0   \n",
      "4         0.5             1.0             1.0              1.0           2.0   \n",
      "\n",
      "   against_steel  against_water  \n",
      "0            1.0            0.5  \n",
      "1            1.0            0.5  \n",
      "2            1.0            0.5  \n",
      "3            0.5            2.0  \n",
      "4            0.5            2.0  \n",
      "\n",
      "[5 rows x 35 columns]\n",
      "   pokedex_number            Name     Type1  Type2  hp  height_m  weight_kg  \\\n",
      "0             720  hoopa-confined   Psychic  Ghost  80       0.5        9.0   \n",
      "1             310       manectric  Electric    NaN  70       1.5       40.2   \n",
      "2             135         jolteon  Electric    NaN  65       0.8       24.5   \n",
      "3             439         mime-jr   Psychic  Fairy  20       0.6       13.0   \n",
      "4             684         swirlix     Fairy    NaN  62       0.4        3.5   \n",
      "\n",
      "   attack  defense  speed  ...  against_ghost  against_grass  against_ground  \\\n",
      "0     160       60     80  ...            4.0            1.0             1.0   \n",
      "1      75       80    135  ...            1.0            1.0             2.0   \n",
      "2      65       60    130  ...            1.0            1.0             2.0   \n",
      "3      25       45     60  ...            2.0            1.0             1.0   \n",
      "4      48       66     49  ...            1.0            1.0             1.0   \n",
      "\n",
      "  against_ice  against_normal  against_poison  against_psychic  against_rock  \\\n",
      "0         1.0             0.0             0.5              0.5           1.0   \n",
      "1         1.0             1.0             1.0              1.0           1.0   \n",
      "2         1.0             1.0             1.0              1.0           1.0   \n",
      "3         1.0             1.0             2.0              0.5           1.0   \n",
      "4         1.0             1.0             2.0              1.0           1.0   \n",
      "\n",
      "   against_steel  against_water  \n",
      "0            1.0            1.0  \n",
      "1            0.5            1.0  \n",
      "2            0.5            1.0  \n",
      "3            2.0            1.0  \n",
      "4            2.0            1.0  \n",
      "\n",
      "[5 rows x 35 columns]\n"
     ]
    }
   ],
   "source": [
    "import os\n",
    "import pandas as pd\n",
    "\n",
    "path = \".\"  #absolute or relative path to the folder containing the file. \n",
    "            #\".\" for current folder\n",
    "\n",
    "#read and print values from the dataset to check if it imported correctly\n",
    "filename_read = os.path.join(path, \"pokemon.csv\")\n",
    "df = pd.read_csv(filename_read)\n",
    "print(df[0:5])\n",
    "df = df.sample(frac=1).reset_index(drop=True)\n",
    "print(df[0:5])"
   ]
  },
  {
   "cell_type": "code",
   "execution_count": 3,
   "id": "92308d0f",
   "metadata": {},
   "outputs": [
    {
     "name": "stdout",
     "output_type": "stream",
     "text": [
      "0      Psychic\n",
      "1     Electric\n",
      "2     Electric\n",
      "3      Psychic\n",
      "4        Fairy\n",
      "5          Ice\n",
      "6       Poison\n",
      "7     Electric\n",
      "8       Normal\n",
      "9        Grass\n",
      "10       Ghost\n",
      "11      Normal\n",
      "12    Fighting\n",
      "13       Grass\n",
      "14        Dark\n",
      "15       Grass\n",
      "16      Ground\n",
      "17    Fighting\n",
      "18    Electric\n",
      "19      Ground\n",
      "Name: Type1, dtype: object\n",
      "0     14\n",
      "1      3\n",
      "2      3\n",
      "3     14\n",
      "4      4\n",
      "5     11\n",
      "6     13\n",
      "7      3\n",
      "8     12\n",
      "9      9\n",
      "10     8\n",
      "11    12\n",
      "12     5\n",
      "13     9\n",
      "14     1\n",
      "15     9\n",
      "16    10\n",
      "17     5\n",
      "18     3\n",
      "19    10\n",
      "Name: Type1, dtype: int32\n",
      "(801, 5)\n",
      "(801,)\n",
      "(801, 18)\n"
     ]
    }
   ],
   "source": [
    "#taken from tutorial 3\n",
    "#df = df.select_dtypes(include=['int', 'float'])\n",
    "\n",
    "#encode target names to integers\n",
    "#https://stackoverflow.com/questions/49037286/pandas-string-values-encoding\n",
    "from sklearn.preprocessing import LabelEncoder\n",
    "import numpy as np\n",
    "\n",
    "print(df['Type1'][0:20])\n",
    "\n",
    "le = LabelEncoder()\n",
    "df['Type1'] = le.fit_transform(df['Type1'])\n",
    "\n",
    "print(df['Type1'][0:20])\n",
    "\n",
    "#collect the columns names for non-target features\n",
    "result = []\n",
    "for x in df.columns:\n",
    "    if (x == 'attack') or (x == 'defense') or (x == 'speed') or (x == 'sp_defense') or (x == 'sp_attack') or (x == 'weight'):\n",
    "        result.append(x)\n",
    "\n",
    "#get data (often called X) and target (often calle y) and display its shape\n",
    "X = df[result].values\n",
    "yalt = df['Type1'].values\n",
    "print(X.shape)\n",
    "print(yalt.shape)\n",
    "\n",
    "from tensorflow import keras\n",
    "\n",
    "y = keras.utils.to_categorical(df['Type1'].to_numpy())\n",
    "\n",
    "print(y.shape)"
   ]
  },
  {
   "cell_type": "code",
   "execution_count": 4,
   "id": "b24cb03c",
   "metadata": {},
   "outputs": [
    {
     "name": "stdout",
     "output_type": "stream",
     "text": [
      "Accuracy: 0.04\n"
     ]
    }
   ],
   "source": [
    "from sklearn.linear_model import Perceptron\n",
    "from sklearn.model_selection import train_test_split\n",
    "from sklearn.model_selection import KFold\n",
    "from sklearn.metrics import accuracy_score\n",
    "\n",
    "X_train, X_test, y_train, y_test = train_test_split(X, yalt, test_size=0.15, random_state=4)\n",
    "\n",
    "# Create a Perceptron, with its training parameters\n",
    "ppn = Perceptron(max_iter=40,tol=0.001,eta0=1)\n",
    "\n",
    "# Train the model\n",
    "ppn.fit(X_train,y_train)\n",
    "\n",
    "# Make predication\n",
    "y_pred = ppn.predict(X_test)\n",
    "\n",
    "# Evaluate accuracy\n",
    "print('Accuracy: %.2f' % accuracy_score(y_test, y_pred))"
   ]
  },
  {
   "cell_type": "code",
   "execution_count": 5,
   "id": "fe62c17c",
   "metadata": {},
   "outputs": [
    {
     "name": "stdout",
     "output_type": "stream",
     "text": [
      "Accuracy score: 0.23134328358208955\n",
      "Accuracy score: 0.23134328358208955\n",
      "Accuracy score: 0.26865671641791045\n",
      "Accuracy score: 0.2857142857142857\n",
      "Accuracy score: 0.2857142857142857\n",
      "Accuracy score: 0.2556390977443609\n"
     ]
    }
   ],
   "source": [
    "from tensorflow.keras.models import Sequential\n",
    "from tensorflow.keras.layers import Dense\n",
    "from sklearn import metrics\n",
    "\n",
    "model = Sequential()\n",
    "model.add(Dense(64, input_dim=X.shape[1], activation='relu'))\n",
    "model.add(Dense(y.shape[1],activation='softmax'))\n",
    "model.compile(loss='categorical_crossentropy', optimizer='adam')\n",
    "\n",
    "kf = KFold(6)\n",
    "\n",
    "for train, test in kf.split(X):\n",
    "    X_train = X[train]\n",
    "    y_train = y[train]\n",
    "    X_test = X[test]\n",
    "    y_test = y[test]\n",
    "\n",
    "    model.fit(X_train,y_train,verbose=0,epochs=128)\n",
    "    pred = model.predict(X_test)\n",
    "    pred = np.argmax(pred,axis=1)\n",
    "    y_compare = np.argmax(y_test,axis=1) \n",
    "    score = metrics.accuracy_score(y_compare, pred)\n",
    "    print(\"Accuracy score: {}\".format(score))"
   ]
  },
  {
   "cell_type": "code",
   "execution_count": 37,
   "id": "0bd97e00",
   "metadata": {},
   "outputs": [
    {
     "name": "stdout",
     "output_type": "stream",
     "text": [
      "(801, 18)\n",
      "(801, 18)\n",
      "[14 14  3 14 17 15 13  3 12  6 17 12  5  0 17  9  5 10  0 10]\n",
      "[14  3  3 14  4 11 13  3 12  9  8 12  5  9  1  9 10  5  3 10]\n",
      "Accuracy score: 0.4431960049937578\n"
     ]
    }
   ],
   "source": [
    "\n",
    "pred = model.predict(X) # using all the data\n",
    "#print(pred[0:10]) # print first ten predictions\n",
    "print(pred.shape)\n",
    "print(y.shape)\n",
    "pred = np.argmax(pred,axis=1)\n",
    "y_compare = np.argmax(y,axis=1) \n",
    "print(pred[0:20])\n",
    "print(y_compare[0:20])\n",
    "score = metrics.accuracy_score(y_compare, pred)\n",
    "print(\"Accuracy score: {}\".format(score))"
   ]
  },
  {
   "cell_type": "code",
   "execution_count": 19,
   "id": "3fb8a368",
   "metadata": {},
   "outputs": [
    {
     "data": {
      "image/png": "[encoded data removed]",
      "text/plain": [
       "<Figure size 432x288 with 2 Axes>"
      ]
     },
     "metadata": {
      "needs_background": "light"
     },
     "output_type": "display_data"
    }
   ],
   "source": [
    "from sklearn.metrics import ConfusionMatrixDisplay\n",
    "from sklearn.metrics import confusion_matrix\n",
    "import matplotlib.pyplot as plt\n",
    "\n",
    "cm = confusion_matrix(np.argmax(y,axis=1), np.argmax(pred,axis=1))\n",
    "\n",
    "disp = ConfusionMatrixDisplay(confusion_matrix=cm)\n",
    "disp.plot()\n",
    "plt.ylabel('True label')\n",
    "plt.xlabel('Predicted label')\n",
    "plt.show()"
   ]
  },
  {
   "cell_type": "code",
   "execution_count": 28,
   "id": "865fe961",
   "metadata": {},
   "outputs": [
    {
     "name": "stdout",
     "output_type": "stream",
     "text": [
      "17    115\n",
      "9      80\n",
      "0      72\n",
      "12     67\n",
      "14     56\n",
      "6      52\n",
      "15     45\n",
      "3      39\n",
      "10     33\n",
      "13     32\n",
      "5      30\n",
      "1      29\n",
      "2      28\n",
      "7      28\n",
      "8      27\n",
      "16     24\n",
      "11     23\n",
      "4      21\n",
      "Name: Type1, dtype: int64\n",
      "Water       115\n",
      "Grass        80\n",
      "Bug          72\n",
      "Normal       67\n",
      "Psychic      56\n",
      "Fire         52\n",
      "Rock         45\n",
      "Electric     39\n",
      "Ground       33\n",
      "Poison       32\n",
      "Fighting     30\n",
      "Dark         29\n",
      "Dragon       28\n",
      "Flying       28\n",
      "Ghost        27\n",
      "Steel        24\n",
      "Ice          23\n",
      "Fairy        21\n",
      "Name: Type1, dtype: int64\n"
     ]
    }
   ],
   "source": [
    "print(df['Type1'].value_counts())\n",
    "df2 = pd.read_csv(filename_read)\n",
    "df2 = df2.sample(frac=1).reset_index(drop=True)\n",
    "print(df2['Type1'].value_counts())"
   ]
  },
  {
   "cell_type": "code",
   "execution_count": null,
   "id": "65146c32",
   "metadata": {},
   "outputs": [],
   "source": []
  }
 ],
 "metadata": {
  "kernelspec": {
   "display_name": "Python 3",
   "language": "python",
   "name": "python3"
  },
  "language_info": {
   "codemirror_mode": {
    "name": "ipython",
    "version": 3
   },
   "file_extension": ".py",
   "mimetype": "text/x-python",
   "name": "python",
   "nbconvert_exporter": "python",
   "pygments_lexer": "ipython3",
   "version": "3.8.8"
  }
 },
 "nbformat": 4,
 "nbformat_minor": 5
}
