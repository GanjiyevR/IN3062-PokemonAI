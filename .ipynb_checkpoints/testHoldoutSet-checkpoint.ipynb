{
 "cells": [
  {
   "cell_type": "code",
   "execution_count": null,
   "id": "95aa0ea9",
   "metadata": {},
   "outputs": [],
   "source": [
    "import os\n",
    "import pandas as pd\n",
    "import save_and_load\n",
    "\n",
    "path = \".\"  #absolute or relative path to the folder containing the file. \n",
    "            #\".\" for current folder\n",
    "\n",
    "#read and print values from the dataset to check if it imported correctly\n",
    "filename_read = os.path.join(path, \"pokemon.csv\")\n",
    "df = pd.read_csv(filename_read)\n",
    "print(df[0:5])\n",
    "df = df.sample(frac=1).reset_index(drop=True)\n",
    "print(df[0:5])"
   ]
  },
  {
   "cell_type": "code",
   "execution_count": null,
   "id": "a9350958",
   "metadata": {},
   "outputs": [],
   "source": [
    "#taken from tutorial 3\n",
    "#df = df.select_dtypes(include=['int', 'float'])\n",
    "\n",
    "#encode target names to integers\n",
    "#https://stackoverflow.com/questions/49037286/pandas-string-values-encoding\n",
    "from sklearn.preprocessing import LabelEncoder\n",
    "import numpy as np\n",
    "\n",
    "print(df['Type1'][0:20])\n",
    "\n",
    "le = LabelEncoder()\n",
    "df['Type1'] = le.fit_transform(df['Type1'])\n",
    "\n",
    "print(df['Type1'][0:20])\n",
    "\n",
    "#collect the columns names for non-target features\n",
    "result = []\n",
    "for x in df.columns:\n",
    "    if (x == 'attack') or (x == 'defense') or (x == 'speed') or (x == 'sp_defense') or (x == 'sp_attack') or (x == 'weight_kg') or (x == 'height_m') or (x == 'hp'):\n",
    "        result.append(x)\n",
    "\n",
    "#get data (often called X) and target (often calle y) and display its shape\n",
    "X = df[result].values\n",
    "y = df['Type1'].values\n",
    "print(X.shape)\n",
    "print(y.shape)\n",
    "\n",
    "from tensorflow import keras\n",
    "\n",
    "y = keras.utils.to_categorical(df['Type1'].to_numpy())\n",
    "\n",
    "print(y.shape)"
   ]
  },
  {
   "cell_type": "code",
   "execution_count": null,
   "id": "da8c8be2",
   "metadata": {},
   "outputs": [],
   "source": [
    "from sklearn import metrics\n",
    "\n",
    "model = save_and_load.model_loader(path, \"seqKFold\")\n",
    "\n",
    "pred = model.predict(X)\n",
    "\n",
    "pred = np.argmax(pred,axis=1)\n",
    "\n",
    "y_compare = np.argmax(y,axis=1) \n",
    "score = metrics.accuracy_score(y_compare, pred)\n",
    "\n",
    "# print the accuracy of the model\n",
    "print(\"Accuracy score: {}\".format(score))"
   ]
  },
  {
   "cell_type": "code",
   "execution_count": null,
   "id": "395c8221",
   "metadata": {},
   "outputs": [],
   "source": [
    "#plot a confusion matrix for the predicitons\n",
    "from sklearn.metrics import ConfusionMatrixDisplay\n",
    "from sklearn.metrics import confusion_matrix\n",
    "import matplotlib.pyplot as plt\n",
    "\n",
    "cm = confusion_matrix(y_compare, pred)\n",
    "\n",
    "disp = ConfusionMatrixDisplay(confusion_matrix=cm)\n",
    "disp.plot()\n",
    "plt.ylabel('True label')\n",
    "plt.xlabel('Predicted label')\n",
    "plt.show()"
   ]
  },
  {
   "cell_type": "code",
   "execution_count": null,
   "id": "97020a6c",
   "metadata": {},
   "outputs": [],
   "source": [
    "#list the encoded labels and string labels (temporary solution until we find out how to decode labels)\n",
    "print(df['Type1'].value_counts())\n",
    "df2 = pd.read_csv(filename_read)\n",
    "df2 = df2.sample(frac=1).reset_index(drop=True)\n",
    "print(df2['Type1'].value_counts())"
   ]
  },
  {
   "cell_type": "code",
   "execution_count": null,
   "id": "40002631",
   "metadata": {},
   "outputs": [],
   "source": []
  }
 ],
 "metadata": {
  "kernelspec": {
   "display_name": "Python 3",
   "language": "python",
   "name": "python3"
  },
  "language_info": {
   "codemirror_mode": {
    "name": "ipython",
    "version": 3
   },
   "file_extension": ".py",
   "mimetype": "text/x-python",
   "name": "python",
   "nbconvert_exporter": "python",
   "pygments_lexer": "ipython3",
   "version": "3.8.8"
  }
 },
 "nbformat": 4,
 "nbformat_minor": 5
}
