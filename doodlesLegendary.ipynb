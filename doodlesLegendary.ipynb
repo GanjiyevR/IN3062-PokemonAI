{
 "cells": [
  {
   "cell_type": "code",
   "execution_count": 1,
   "id": "cdd532f0",
   "metadata": {
    "scrolled": true
   },
   "outputs": [
    {
     "name": "stdout",
     "output_type": "stream",
     "text": [
      "   pokedex_number        Name  Type1   Type2  hp  height_m  weight_kg  attack  \\\n",
      "0               1   bulbasaur  Grass  Poison  45       0.7        6.9      49   \n",
      "1               2     ivysaur  Grass  Poison  60       1.0       13.0      62   \n",
      "2               3    venusaur  Grass  Poison  80       2.0      100.0     100   \n",
      "3               4  charmander   Fire     NaN  39       0.6        8.5      52   \n",
      "4               5  charmeleon   Fire     NaN  58       1.1       19.0      64   \n",
      "\n",
      "   defense  speed  sp_attack  sp_defense   classfication  generation  \\\n",
      "0       49     45         65          65    Seed Pok�mon           1   \n",
      "1       63     60         80          80    Seed Pok�mon           1   \n",
      "2      123     80        122         120    Seed Pok�mon           1   \n",
      "3       43     65         60          50  Lizard Pok�mon           1   \n",
      "4       58     80         80          65   Flame Pok�mon           1   \n",
      "\n",
      "   is_legendary  \n",
      "0             0  \n",
      "1             0  \n",
      "2             0  \n",
      "3             0  \n",
      "4             0  \n",
      "   pokedex_number       Name   Type1   Type2  hp  height_m  weight_kg  attack  \\\n",
      "0             581     swanna   Water  Flying  75       1.3       24.2      87   \n",
      "1             568   trubbish  Poison     NaN  50       0.6       31.0      50   \n",
      "2             315    roselia   Grass  Poison  50       0.3        2.0      60   \n",
      "3             637  volcarona     Bug    Fire  85       1.6       46.0      60   \n",
      "4             623     golurk  Ground   Ghost  89       2.8      330.0     124   \n",
      "\n",
      "   defense  speed  sp_attack  sp_defense       classfication  generation  \\\n",
      "0       63     98         87          63  White Bird Pok�mon           5   \n",
      "1       62     65         40          62   Trash Bag Pok�mon           5   \n",
      "2       45     65        100          80       Thorn Pok�mon           3   \n",
      "3       65    100        135         105         Sun Pok�mon           5   \n",
      "4       80     55         55          80   Automaton Pok�mon           5   \n",
      "\n",
      "   is_legendary  \n",
      "0             0  \n",
      "1             0  \n",
      "2             0  \n",
      "3             0  \n",
      "4             0  \n"
     ]
    }
   ],
   "source": [
    "import os\n",
    "import pandas as pd\n",
    "\n",
    "path = \".\"  #absolute or relative path to the folder containing the file. \n",
    "            #\".\" for current folder\n",
    "\n",
    "#read and print values from the dataset to check if it imported correctly\n",
    "filename_read = os.path.join(path, \"pokemon.csv\")\n",
    "df = pd.read_csv(filename_read)\n",
    "print(df[0:5])\n",
    "df = df.sample(frac=1).reset_index(drop=True)\n",
    "print(df[0:5])"
   ]
  },
  {
   "cell_type": "code",
   "execution_count": 2,
   "id": "92308d0f",
   "metadata": {},
   "outputs": [
    {
     "name": "stdout",
     "output_type": "stream",
     "text": [
      "0     0\n",
      "1     0\n",
      "2     0\n",
      "3     0\n",
      "4     0\n",
      "5     0\n",
      "6     0\n",
      "7     0\n",
      "8     0\n",
      "9     0\n",
      "10    0\n",
      "11    0\n",
      "12    0\n",
      "13    0\n",
      "14    1\n",
      "15    0\n",
      "16    0\n",
      "17    0\n",
      "18    1\n",
      "19    0\n",
      "Name: is_legendary, dtype: int64\n",
      "(890, 8)\n",
      "(890,)\n",
      "(890, 2)\n"
     ]
    }
   ],
   "source": [
    "#taken from tutorial 3\n",
    "#df = df.select_dtypes(include=['int', 'float'])\n",
    "\n",
    "#encode target names to integers\n",
    "#https://stackoverflow.com/questions/49037286/pandas-string-values-encoding\n",
    "from sklearn.preprocessing import LabelEncoder\n",
    "import numpy as np\n",
    "import save_and_load\n",
    "\n",
    "print(df['is_legendary'][0:20])\n",
    "\n",
    "#collect the columns names for non-target features\n",
    "result = []\n",
    "for x in df.columns:\n",
    "    if (x == 'attack') or (x == 'defense') or (x == 'speed') or (x == 'sp_defense') or (x == 'sp_attack') or (x == 'weight_kg') or (x == 'height_m') or (x == 'hp'):\n",
    "        result.append(x)\n",
    "\n",
    "#get data (often called X) and target (often calle y) and display its shape\n",
    "X = df[result].values\n",
    "yalt = df['is_legendary'].values\n",
    "print(X.shape)\n",
    "print(yalt.shape)\n",
    "\n",
    "from tensorflow import keras\n",
    "\n",
    "y = keras.utils.to_categorical(df['is_legendary'].to_numpy())\n",
    "\n",
    "print(y.shape)"
   ]
  },
  {
   "cell_type": "code",
   "execution_count": 3,
   "id": "b24cb03c",
   "metadata": {},
   "outputs": [
    {
     "name": "stdout",
     "output_type": "stream",
     "text": [
      "Accuracy: 0.91\n"
     ]
    }
   ],
   "source": [
    "from sklearn.linear_model import Perceptron\n",
    "from sklearn.model_selection import train_test_split\n",
    "from sklearn.model_selection import KFold\n",
    "from sklearn.metrics import accuracy_score\n",
    "\n",
    "X_train, X_test, y_train, y_test = train_test_split(X, yalt, test_size=0.15, random_state=4)\n",
    "\n",
    "#creates a perceptron, with its training parameters\n",
    "ppn = Perceptron(max_iter=100,tol=0.001,eta0=1)\n",
    "\n",
    "#trains the model\n",
    "ppn.fit(X_train,y_train)\n",
    "\n",
    "#make a predication\n",
    "y_pred = ppn.predict(X_test)\n",
    "\n",
    "#evaluates accuracy\n",
    "print('Accuracy: %.2f' % accuracy_score(y_test, y_pred))"
   ]
  },
  {
   "cell_type": "code",
   "execution_count": null,
   "id": "fe62c17c",
   "metadata": {},
   "outputs": [
    {
     "name": "stdout",
     "output_type": "stream",
     "text": [
      "Accuracy score: 0.87248322147651\n",
      "Accuracy score: 0.912751677852349\n",
      "Accuracy score: 0.9527027027027027\n",
      "Accuracy score: 0.9391891891891891\n",
      "Accuracy score: 0.9391891891891891\n",
      "Accuracy score: 0.9662162162162162\n"
     ]
    }
   ],
   "source": [
    "from tensorflow.keras.models import Sequential\n",
    "from tensorflow.keras.layers import Dense\n",
    "from sklearn import metrics\n",
    "\n",
    "#makes a sequential model and train it using KFolds\n",
    "model = Sequential()\n",
    "model.add(Dense(64, input_dim=X.shape[1], activation='relu'))\n",
    "model.add(Dense(y.shape[1],activation='softmax'))\n",
    "model.compile(loss='categorical_crossentropy', optimizer='adam')\n",
    "\n",
    "kf = KFold(6)\n",
    "\n",
    "for train, test in kf.split(X):\n",
    "    X_train = X[train]\n",
    "    y_train = y[train]\n",
    "    X_test = X[test]\n",
    "    y_test = y[test]\n",
    "\n",
    "    model.fit(X_train,y_train,verbose=0,epochs=128)\n",
    "    pred = model.predict(X_test)\n",
    "    pred = np.argmax(pred,axis=1)\n",
    "    y_compare = np.argmax(y_test,axis=1) \n",
    "    score = metrics.accuracy_score(y_compare, pred)\n",
    "    print(\"Accuracy score: {}\".format(score))\n",
    "    \n",
    "#questions if you want to save the model\n",
    "save_and_load.save_model(model, path, \"seqKFoldLegendary\")"
   ]
  },
  {
   "cell_type": "code",
   "execution_count": null,
   "id": "0bd97e00",
   "metadata": {},
   "outputs": [],
   "source": [
    "\n",
    "pred = model.predict(X) #prediction that uses all the data\n",
    "print(pred.shape)\n",
    "print(y.shape)\n",
    "pred = np.argmax(pred,axis=1)\n",
    "y_compare = np.argmax(y,axis=1) \n",
    "print(pred[0:151])\n",
    "print(y_compare[0:151])\n",
    "score = metrics.accuracy_score(y_compare, pred)\n",
    "print(\"Accuracy score: {}\".format(score))"
   ]
  },
  {
   "cell_type": "code",
   "execution_count": null,
   "id": "3fb8a368",
   "metadata": {},
   "outputs": [],
   "source": [
    "from sklearn.metrics import ConfusionMatrixDisplay\n",
    "from sklearn.metrics import confusion_matrix\n",
    "import matplotlib.pyplot as plt\n",
    "\n",
    "cm = confusion_matrix(np.argmax(y,axis=1), pred)\n",
    "\n",
    "disp = ConfusionMatrixDisplay(confusion_matrix=cm)\n",
    "disp.plot()\n",
    "plt.ylabel('True label')\n",
    "plt.xlabel('Predicted label')\n",
    "plt.show()"
   ]
  },
  {
   "cell_type": "code",
   "execution_count": null,
   "id": "865fe961",
   "metadata": {},
   "outputs": [],
   "source": [
    "print(df['is_legendary'].value_counts())\n",
    "df2 = pd.read_csv(filename_read)\n",
    "df2 = df2.sample(frac=1).reset_index(drop=True)\n",
    "print(df2['is_legendary'].value_counts())"
   ]
  },
  {
   "cell_type": "code",
   "execution_count": null,
   "id": "65146c32",
   "metadata": {},
   "outputs": [],
   "source": []
  }
 ],
 "metadata": {
  "kernelspec": {
   "display_name": "Python 3",
   "language": "python",
   "name": "python3"
  },
  "language_info": {
   "codemirror_mode": {
    "name": "ipython",
    "version": 3
   },
   "file_extension": ".py",
   "mimetype": "text/x-python",
   "name": "python",
   "nbconvert_exporter": "python",
   "pygments_lexer": "ipython3",
   "version": "3.8.8"
  }
 },
 "nbformat": 4,
 "nbformat_minor": 5
}
