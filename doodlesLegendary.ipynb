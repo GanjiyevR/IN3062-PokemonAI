{
 "cells": [
  {
   "cell_type": "code",
   "execution_count": null,
   "id": "cdd532f0",
   "metadata": {
    "scrolled": true
   },
   "outputs": [],
   "source": [
    "import os\n",
    "import pandas as pd\n",
    "\n",
    "path = \".\"  #absolute or relative path to the folder containing the file. \n",
    "            #\".\" for current folder\n",
    "\n",
    "#read and print values from the dataset to check if it imported correctly\n",
    "filename_read = os.path.join(path, \"pokemon.csv\")\n",
    "df = pd.read_csv(filename_read)\n",
    "print(df[0:5])\n",
    "df = df.sample(frac=1).reset_index(drop=True)\n",
    "print(df[0:5])"
   ]
  },
  {
   "cell_type": "code",
   "execution_count": null,
   "id": "92308d0f",
   "metadata": {},
   "outputs": [],
   "source": [
    "#taken from tutorial 3\n",
    "#df = df.select_dtypes(include=['int', 'float'])\n",
    "\n",
    "#encode target names to integers\n",
    "#https://stackoverflow.com/questions/49037286/pandas-string-values-encoding\n",
    "from sklearn.preprocessing import LabelEncoder\n",
    "import numpy as np\n",
    "import save_and_load\n",
    "\n",
    "#collect the columns names for non-target features\n",
    "result = []\n",
    "for x in df.columns:\n",
    "    if (x == 'attack') or (x == 'defense') or (x == 'speed') or (x == 'sp_defense') or (x == 'sp_attack') or (x == 'weight_kg') or (x == 'height_m') or (x == 'hp'):\n",
    "        result.append(x)\n",
    "\n",
    "#get data (often called X) and target (often called y) and display its shape\n",
    "X = df[result].values\n",
    "yalt = df['is_legendary'].values\n",
    "print(X.shape)\n",
    "print(yalt.shape)\n",
    "\n",
    "from tensorflow import keras\n",
    "\n",
    "y = keras.utils.to_categorical(df['is_legendary'].to_numpy())\n",
    "\n",
    "print(y.shape)"
   ]
  },
  {
   "cell_type": "code",
   "execution_count": null,
   "id": "b24cb03c",
   "metadata": {},
   "outputs": [],
   "source": [
    "from sklearn.linear_model import Perceptron\n",
    "from sklearn.model_selection import train_test_split\n",
    "from sklearn.model_selection import KFold\n",
    "from sklearn.metrics import accuracy_score\n",
    "\n",
    "X_train, X_test, y_train, y_test = train_test_split(X, yalt, test_size=0.15, random_state=4)\n",
    "\n",
    "#creates a perceptron, with its training parameters\n",
    "ppn = Perceptron(max_iter=100,tol=0.001,eta0=1)\n",
    "\n",
    "#trains the model\n",
    "ppn.fit(X_train,y_train)\n",
    "\n",
    "#make a predication\n",
    "y_pred = ppn.predict(X_test)\n",
    "\n",
    "#evaluates accuracy\n",
    "print('Accuracy: %.2f' % accuracy_score(y_test, y_pred))"
   ]
  },
  {
   "cell_type": "code",
   "execution_count": null,
   "id": "fe62c17c",
   "metadata": {},
   "outputs": [],
   "source": [
    "from tensorflow.keras.models import Sequential\n",
    "from tensorflow.keras.layers import Dense\n",
    "from sklearn import metrics\n",
    "\n",
    "#makes a sequential model and train it using KFolds\n",
    "model = Sequential()\n",
    "model.add(Dense(64, input_dim=X.shape[1], activation='relu'))\n",
    "model.add(Dense(y.shape[1],activation='softmax'))\n",
    "model.compile(loss='categorical_crossentropy', optimizer='adam')\n",
    "\n",
    "kf = KFold(6)\n",
    "\n",
    "for train, test in kf.split(X):\n",
    "    X_train = X[train]\n",
    "    y_train = y[train]\n",
    "    X_test = X[test]\n",
    "    y_test = y[test]\n",
    "\n",
    "    model.fit(X_train,y_train,verbose=0,epochs=128)\n",
    "    pred = model.predict(X_test)\n",
    "    pred = np.argmax(pred,axis=1)\n",
    "    y_compare = np.argmax(y_test,axis=1) \n",
    "    score = metrics.accuracy_score(y_compare, pred)\n",
    "    print(\"Accuracy score: {}\".format(score))\n",
    "    \n",
    "#questions if you want to save the model\n",
    "save_and_load.save_model(model, path, \"seqKFoldLegendary\")"
   ]
  },
  {
   "cell_type": "code",
   "execution_count": null,
   "id": "0bd97e00",
   "metadata": {},
   "outputs": [],
   "source": [
    "\n",
    "pred = model.predict(X) #prediction that uses all the data\n",
    "print(pred.shape)\n",
    "print(y.shape)\n",
    "pred = np.argmax(pred,axis=1)\n",
    "y_compare = np.argmax(y,axis=1) \n",
    "print(pred[0:151])\n",
    "print(y_compare[0:151])\n",
    "score = metrics.accuracy_score(y_compare, pred)\n",
    "print(\"Accuracy score: {}\".format(score))"
   ]
  },
  {
   "cell_type": "code",
   "execution_count": null,
   "id": "3fb8a368",
   "metadata": {},
   "outputs": [],
   "source": [
    "from sklearn.metrics import ConfusionMatrixDisplay\n",
    "from sklearn.metrics import confusion_matrix\n",
    "import matplotlib.pyplot as plt\n",
    "\n",
    "cm = confusion_matrix(np.argmax(y,axis=1), pred)\n",
    "\n",
    "disp = ConfusionMatrixDisplay(confusion_matrix=cm)\n",
    "disp.plot()\n",
    "plt.ylabel('True label')\n",
    "plt.xlabel('Predicted label')\n",
    "plt.show()"
   ]
  },
  {
   "cell_type": "code",
   "execution_count": null,
   "id": "865fe961",
   "metadata": {},
   "outputs": [],
   "source": [
    "print(df['is_legendary'].value_counts())\n",
    "df2 = pd.read_csv(filename_read)\n",
    "df2 = df2.sample(frac=1).reset_index(drop=True)\n",
    "print(df2['is_legendary'].value_counts())"
   ]
  },
  {
   "cell_type": "code",
   "execution_count": null,
   "id": "65146c32",
   "metadata": {},
   "outputs": [],
   "source": []
  }
 ],
 "metadata": {
  "kernelspec": {
   "display_name": "Python 3",
   "language": "python",
   "name": "python3"
  },
  "language_info": {
   "codemirror_mode": {
    "name": "ipython",
    "version": 3
   },
   "file_extension": ".py",
   "mimetype": "text/x-python",
   "name": "python",
   "nbconvert_exporter": "python",
   "pygments_lexer": "ipython3",
   "version": "3.8.8"
  }
 },
 "nbformat": 4,
 "nbformat_minor": 5
}
